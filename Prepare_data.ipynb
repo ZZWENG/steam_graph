{
 "cells": [
  {
   "cell_type": "code",
   "execution_count": 1,
   "metadata": {},
   "outputs": [],
   "source": [
    "import pickle, csv\n",
    "import pandas as pd\n",
    "import matplotlib.pyplot as plt\n",
    "import numpy as np\n",
    "from collections import defaultdict, Counter\n",
    "%matplotlib inline\n",
    "import torch\n",
    "\n",
    "import collections\n",
    "import networkx as nx\n",
    "from itertools import combinations\n",
    "import utils\n",
    "import seaborn"
   ]
  },
  {
   "cell_type": "code",
   "execution_count": 2,
   "metadata": {},
   "outputs": [],
   "source": [
    "%load_ext autoreload\n",
    "%autoreload 2"
   ]
  },
  {
   "cell_type": "code",
   "execution_count": null,
   "metadata": {},
   "outputs": [],
   "source": [
    "items_set=pickle.load(open('../data/processed_data/item_set','rb'))  # 2819 Games (that appear in >= 1 bundle)\n",
    "bundle_item_map=pickle.load(open('../data/processed_data/bundle_item_map','rb'))  # 615 bundles\n",
    "user_bundle_map=pickle.load(open('../data/processed_data/user_bundle_map','rb'))  # 29634 Users who purchased >= 1 bundle\n",
    "user_item_map=pickle.load(open('../data/processed_data/user_item_map','rb'))  # 29634 Users who purchased >= 1 bundle\n",
    "\n",
    "# metadata\n",
    "user_id_lookup=pickle.load(open('../data/processed_data/user_id_lookup','rb'))\n",
    "bundle_diversity_map=pickle.load(open('../data/processed_data/bundle_diversity_map','rb'))\n",
    "bundle_price_map = pickle.load(open('../data/processed_data/bundle_price_map','rb'))\n",
    "item_data=pickle.load(open('../data/processed_data/all_items','rb'))\n",
    "item_id_lookup = pickle.load(open('../data/processed_data/item_id_lookup','rb'))  # 2819\n",
    "item_name_map=pickle.load(open('../data/processed_data/item_name_map','rb'))  # 2819\n",
    "bundle_discount_map = pickle.load(open('../data/processed_data/bundle_discount_map','rb'))\n",
    "# all_items = pickle.load(open('../data/processed_data/all_items','rb'))"
   ]
  },
  {
   "cell_type": "markdown",
   "metadata": {},
   "source": [
    "### Generate node features"
   ]
  },
  {
   "cell_type": "code",
   "execution_count": 32,
   "metadata": {},
   "outputs": [],
   "source": [
    "import json, ast\n",
    "items_id_set = item_id_lookup.values()\n",
    "cnt = 0\n",
    "bad_cnt = 0\n",
    "item_id_to_review_feat = {i: np.zeros(3) for i in items_id_set}\n",
    "with open('../raw_data/australian_user_reviews.json') as f:\n",
    "    for line in f:\n",
    "        data = ast.literal_eval(line)\n",
    "        for review in data['reviews']:\n",
    "            item_id = int(review['item_id'])\n",
    "            if item_id in items_id_set:\n",
    "                cnt += 1\n",
    "                item_id_to_review_feat[item_id] += utils.extract_feat_from_review(review)\n",
    "            else:\n",
    "                bad_cnt += 1"
   ]
  },
  {
   "cell_type": "code",
   "execution_count": 33,
   "metadata": {},
   "outputs": [],
   "source": [
    "cnt = 0\n",
    "genre_set = set()\n",
    "sentiment_set = set()\n",
    "max_genre_cnt = 0\n",
    "with open('../raw_data/steam_games.json') as f:\n",
    "    for line in f:\n",
    "        game = ast.literal_eval(line)\n",
    "        if 'id' not in game:\n",
    "            continue\n",
    "        if int(game['id']) in items_id_set:\n",
    "            cnt += 1\n",
    "            if 'genres' in game:\n",
    "                for g in game['genres']:\n",
    "                    genre_set.add(g)\n",
    "                max_genre_cnt = max(max_genre_cnt, len(game['genres']))\n",
    "            if 'sentiment' in game:\n",
    "                sentiment_set.add(game['sentiment'])"
   ]
  },
  {
   "cell_type": "code",
   "execution_count": 34,
   "metadata": {
    "scrolled": true
   },
   "outputs": [],
   "source": [
    "genres = list(genre_set)\n",
    "sentiment = list(sentiment_set)\n",
    "genre_to_genre_id = {v: genres.index(v)+1 for v in genre_set}  # 0 is reserved for abstain\n",
    "sentiment_to_sent_id = {v: sentiment.index(v)+1 for v in sentiment_set}"
   ]
  },
  {
   "cell_type": "code",
   "execution_count": 35,
   "metadata": {},
   "outputs": [],
   "source": [
    "item_id_to_meta_feat = {i: np.zeros(10) for i in items_id_set}\n",
    "with open('../raw_data/steam_games.json') as f:\n",
    "    for line in f:\n",
    "        game = ast.literal_eval(line)\n",
    "        if 'id' not in game:\n",
    "            continue\n",
    "        item_id = int(game['id'])\n",
    "        if item_id in items_id_set:\n",
    "            if 'genres' in game:\n",
    "                i = 0\n",
    "                for g in game['genres']:\n",
    "                    item_id_to_meta_feat[item_id][i] = genre_to_genre_id[g]\n",
    "                    i += 1\n",
    "            if 'sentiment' in game:\n",
    "                item_id_to_meta_feat[item_id][9] = sentiment_to_sent_id[game['sentiment']]"
   ]
  },
  {
   "cell_type": "code",
   "execution_count": 36,
   "metadata": {},
   "outputs": [],
   "source": [
    "def merge_feat(item_id_to_meta_feat, item_id_to_review_feat, item_id_lookup):\n",
    "    item_features = {i: np.zeros(13) for i in item_id_lookup.keys()}\n",
    "    for i, item_id in item_id_lookup.iteritems():\n",
    "#         for item_id in items_id_set:\n",
    "        if item_id in item_id_to_meta_feat:\n",
    "            item_features[i][:10] = item_id_to_meta_feat[item_id]\n",
    "        if item_id in item_id_to_review_feat:\n",
    "            item_features[i][10:] = item_id_to_review_feat[item_id]\n",
    "    return item_features"
   ]
  },
  {
   "cell_type": "code",
   "execution_count": 37,
   "metadata": {},
   "outputs": [],
   "source": [
    "item_features = merge_feat(item_id_to_meta_feat, item_id_to_review_feat, item_id_lookup)"
   ]
  },
  {
   "cell_type": "code",
   "execution_count": 38,
   "metadata": {},
   "outputs": [],
   "source": [
    "# np.save('item_features', item_features)"
   ]
  },
  {
   "cell_type": "markdown",
   "metadata": {},
   "source": [
    "for bundle 258 and 452, the item lists are empty. It doesn't matter, because no user purchased these two!"
   ]
  },
  {
   "cell_type": "markdown",
   "metadata": {},
   "source": [
    "## Prepare Data For GCN"
   ]
  },
  {
   "cell_type": "code",
   "execution_count": 76,
   "metadata": {
    "scrolled": true
   },
   "outputs": [],
   "source": [
    "S = 700  # number of fake bundles\n",
    "N = len(items_set)  # 0,1,...,2818\n",
    "M = len(bundle_item_map) # 0, 1, ..., 614\n",
    "\n",
    "# get items that only appear once\n",
    "items_appearance_cnt = Counter()\n",
    "for b in range(M):\n",
    "    i_in_b = bundle_item_map[b]\n",
    "    for i in i_in_b:\n",
    "        items_appearance_cnt[i] += 1\n",
    "one_appearance = set([i for i in items_appearance_cnt if items_appearance_cnt[i] == 1])\n",
    "assert len(one_appearance) == 2245, len(one_appearance)\n",
    "\n",
    "for i in range(S):\n",
    "    if len(one_appearance) > 1:\n",
    "        random_items = set(np.random.choice(list(one_appearance), \n",
    "                                            np.random.randint(1, min(len(one_appearance), 7)), replace=False))\n",
    "    elif len(one_appearance) == 1:\n",
    "        random_items = set(np.random.choice(list(items_set), \n",
    "                                            np.random.randint(2, 7), replace=False))\n",
    "        random_items.add(list(one_appearance)[0])\n",
    "    else:\n",
    "        random_items = set(np.random.choice(list(items_set), \n",
    "                                            np.random.randint(2, 7), replace=False))\n",
    "    bundle_item_map[615+i] = random_items\n",
    "    one_appearance -= random_items\n",
    "    \n",
    "assert max(bundle_item_map.keys()) == 615 + S - 1, max(bundle_item_map.keys())\n",
    "\n",
    "V_star = range(M+S)\n",
    "E_star = []\n",
    "for i in range(N):\n",
    "    hlink_star = set()\n",
    "    for j in range(M+S):\n",
    "        if i in bundle_item_map[j]:\n",
    "            hlink_star.add(j)\n",
    "    E_star.append(hlink_star)"
   ]
  },
  {
   "cell_type": "code",
   "execution_count": 77,
   "metadata": {
    "scrolled": true
   },
   "outputs": [
    {
     "data": {
      "text/plain": [
       "Counter({2: 2416, 3: 343, 4: 49, 5: 8, 6: 2, 7: 1})"
      ]
     },
     "execution_count": 77,
     "metadata": {},
     "output_type": "execute_result"
    }
   ],
   "source": [
    "Counter(map(len, E_star))  # 2245 items were only included in 1 bundle."
   ]
  },
  {
   "cell_type": "code",
   "execution_count": 78,
   "metadata": {},
   "outputs": [],
   "source": [
    "def transform_hlink(node_set):\n",
    "    reg_edges = []\n",
    "    for edge in combinations(node_set, 2):\n",
    "        reg_edges.append({edge[0], edge[1]})\n",
    "    return reg_edges"
   ]
  },
  {
   "cell_type": "code",
   "execution_count": 80,
   "metadata": {},
   "outputs": [],
   "source": [
    "def get_adj_list(V, E):\n",
    "    adj_list = {v: set() for v in V}\n",
    "    for e in E:\n",
    "        e = list(e)\n",
    "        if len(e) == 1:\n",
    "#             adj_list[e[0]].add(e[0])\n",
    "#             continue\n",
    "            raise Exception()\n",
    "        elif len(e) == 2:\n",
    "            adj_list[e[0]].add(e[1])\n",
    "            adj_list[e[1]].add(e[0])\n",
    "        else:\n",
    "            raise Exception()\n",
    "    return adj_list"
   ]
  },
  {
   "cell_type": "code",
   "execution_count": 81,
   "metadata": {},
   "outputs": [],
   "source": [
    "def get_feat_data(v_star_set, v_features):\n",
    "    features = np.zeros((len(v_star_set), 13))\n",
    "    for v_star in range(len(v_star_set)):\n",
    "        feat = np.zeros(13)\n",
    "        for item in bundle_item_map[v_star]:\n",
    "            feat += v_features[item]\n",
    "        if len(bundle_item_map[v_star]) > 0:\n",
    "            feat /= len(bundle_item_map[v_star])\n",
    "        features[v_star] = feat / 300.\n",
    "    return features"
   ]
  },
  {
   "cell_type": "code",
   "execution_count": 82,
   "metadata": {},
   "outputs": [],
   "source": [
    "E_star_reg = []\n",
    "for e in E_star:\n",
    "    if len(e) > 2:\n",
    "        E_star_reg += transform_hlink(e)\n",
    "    else:\n",
    "        E_star_reg.append(e)"
   ]
  },
  {
   "cell_type": "code",
   "execution_count": 87,
   "metadata": {},
   "outputs": [],
   "source": [
    "class_map = {\n",
    "#     v: np.random.randint(0, 2) for v in range(M)\n",
    "    v: 1 for v in range(M)\n",
    "}\n",
    "sum(class_map.values())\n",
    "for i in range(M, M+S):\n",
    "    class_map[i] = 0"
   ]
  },
  {
   "cell_type": "code",
   "execution_count": 88,
   "metadata": {
    "scrolled": true
   },
   "outputs": [],
   "source": [
    "feat_data = get_feat_data(V_star, item_features)\n",
    "labels_steam = np.array(class_map.values()).reshape(-1, 1)\n",
    "adj_list_steam = get_adj_list(V_star, E_star_reg)\n",
    "np.isnan(labels_steam).any(), np.isnan(feat_data).any()"
   ]
  },
  {
   "cell_type": "code",
   "execution_count": 89,
   "metadata": {
    "scrolled": true
   },
   "outputs": [
    {
     "data": {
      "text/plain": [
       "((1315, 13), 1315)"
      ]
     },
     "execution_count": 89,
     "metadata": {},
     "output_type": "execute_result"
    }
   ],
   "source": [
    "feat_data.shape, len(adj_list_steam)"
   ]
  },
  {
   "cell_type": "code",
   "execution_count": 90,
   "metadata": {},
   "outputs": [],
   "source": [
    "pickle.dump(labels_steam, open('labels_steam.p', 'w'))\n",
    "pickle.dump(feat_data, open('feat_data_steam.p', 'w'))\n",
    "pickle.dump(adj_list_steam, open('adj_list_steam.p', 'w'))"
   ]
  },
  {
   "cell_type": "code",
   "execution_count": 92,
   "metadata": {
    "scrolled": false
   },
   "outputs": [
    {
     "data": {
      "text/plain": [
       "(3.1416666666666666, 0.0)"
      ]
     },
     "execution_count": 92,
     "metadata": {},
     "output_type": "execute_result"
    }
   ],
   "source": [
    "feat_data.max(), feat_data.min()"
   ]
  },
  {
   "cell_type": "code",
   "execution_count": 106,
   "metadata": {
    "scrolled": true
   },
   "outputs": [],
   "source": [
    "x = torch.tensor(feat_data, dtype=torch.float)\n",
    "y = torch.tensor(labels_steam.flatten(), dtype=torch.long)\n",
    "\n",
    "edge_idx = []\n",
    "for node, adj in adj_list_steam.iteritems():\n",
    "    for neighbor in adj:\n",
    "        edge_idx.append([node, neighbor])\n",
    "edge_idx = torch.tensor(edge_idx).T\n",
    "\n",
    "np.save(open('gnn_x', 'wb'), x)\n",
    "np.save(open('gnn_y', 'wb'), y)\n",
    "np.save(open('gnn_edge', 'wb'), edge_idx)"
   ]
  },
  {
   "cell_type": "markdown",
   "metadata": {},
   "source": [
    "## Prepare Data For CMM"
   ]
  },
  {
   "cell_type": "code",
   "execution_count": 124,
   "metadata": {},
   "outputs": [],
   "source": [
    "with open('cmm_bundle_items.txt', 'w') as f:\n",
    "    for bundle, items in bundle_item_map.iteritems():\n",
    "        items = list(map(str, items))\n",
    "        f.write('b'+str(bundle)+':'+','.join(items)+'\\n')  # bundle id to game id"
   ]
  },
  {
   "cell_type": "code",
   "execution_count": null,
   "metadata": {},
   "outputs": [],
   "source": []
  },
  {
   "cell_type": "code",
   "execution_count": null,
   "metadata": {},
   "outputs": [],
   "source": []
  },
  {
   "cell_type": "code",
   "execution_count": 42,
   "metadata": {},
   "outputs": [],
   "source": [
    "with open('snap_edge_list.txt', 'w') as f:\n",
    "    for bundle, items in bundle_item_map.iteritems():\n",
    "        for item in items:\n",
    "            f.write(str(bundle+3000)+'\\t'+str(item)+'\\n')  # bundle id to game id"
   ]
  }
 ],
 "metadata": {
  "kernelspec": {
   "display_name": "Python 2",
   "language": "python",
   "name": "python2"
  },
  "language_info": {
   "codemirror_mode": {
    "name": "ipython",
    "version": 2
   },
   "file_extension": ".py",
   "mimetype": "text/x-python",
   "name": "python",
   "nbconvert_exporter": "python",
   "pygments_lexer": "ipython2",
   "version": "2.7.17"
  }
 },
 "nbformat": 4,
 "nbformat_minor": 2
}
