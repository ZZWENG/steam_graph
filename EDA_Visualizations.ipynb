{
 "cells": [
  {
   "cell_type": "code",
   "execution_count": null,
   "metadata": {},
   "outputs": [],
   "source": [
    "import snap\n",
    "from collections import Counter\n",
    "import matplotlib.pyplot as plt\n",
    "import pandas as pd\n",
    "import pickle"
   ]
  },
  {
   "cell_type": "code",
   "execution_count": null,
   "metadata": {},
   "outputs": [],
   "source": [
    "user_bundle_map=pickle.load(open('../data/processed_data/user_bundle_map','rb'))  # 29634 Users who purchased >= 1 bundle\n",
    "user_item_map=pickle.load(open('../data/processed_data/user_item_map','rb'))  # 29634 Users who purchased >= 1 bundle"
   ]
  },
  {
   "cell_type": "code",
   "execution_count": null,
   "metadata": {},
   "outputs": [],
   "source": [
    "bundle_purchase_cnt = Counter()\n",
    "for _, b in user_bundle_map.iteritems():\n",
    "    for b_id in b:\n",
    "        bundle_purchase_cnt[b_id] += 1\n",
    "# bundle_purchase_cnt"
   ]
  },
  {
   "cell_type": "code",
   "execution_count": null,
   "metadata": {},
   "outputs": [],
   "source": [
    "import seaborn as sns\n",
    "g = sns.distplot(pd.Series(dict(bundle_purchase_cnt)).values, kde=False, rug=True)\n",
    "g.set_title(\"Distribution of bundle purchases\")\n",
    "# g.set_axis_labels(\"Total bill ($)\", \"\")\n",
    "# g.set(xlim=(0, 60), yticklabels=[\"Thursday\", \"Friday\", \"Saturday\", \"Sunday\"])"
   ]
  },
  {
   "cell_type": "code",
   "execution_count": null,
   "metadata": {},
   "outputs": [],
   "source": [
    "user_purchase_cnt = Counter()\n",
    "for u, b in user_bundle_map.iteritems():\n",
    "    for b_id in b:\n",
    "        user_purchase_cnt[u] += 1"
   ]
  },
  {
   "cell_type": "code",
   "execution_count": null,
   "metadata": {},
   "outputs": [],
   "source": [
    "g = sns.distplot(pd.Series(dict(user_purchase_cnt)).values, kde=False, rug=True)\n",
    "g.set_title(\"Distribution of number of purchases made by individual users\")"
   ]
  },
  {
   "cell_type": "markdown",
   "metadata": {},
   "source": [
    "### Node Deg Distribution"
   ]
  },
  {
   "cell_type": "code",
   "execution_count": null,
   "metadata": {},
   "outputs": [],
   "source": [
    "\n",
    "def loadNet(path='snap_edge_list.txt'):\n",
    "    Graph = snap.LoadEdgeList(snap.PUNGraph, path, 0, 1)\n",
    "    # remove self edges\n",
    "    for edge in Graph.Edges():\n",
    "        if edge.GetSrcNId() == edge.GetDstNId():\n",
    "            Graph.DelEdge(edge.GetSrcNId(), edge.GetDstNId())\n",
    "#     assert (Graph.GetEdges() == 14484)\n",
    "    return Graph\n",
    "\n",
    "\n",
    "def getDataPointsToPlot(Graph):\n",
    "    deg_d = Counter()\n",
    "    for node in Graph.Nodes():\n",
    "        deg = node.GetDeg()\n",
    "        deg_d[deg] += 1\n",
    "    N = Graph.GetNodes()\n",
    "    if 0 in deg_d:\n",
    "        del deg_d[0]  # filter out nodes with 0 degrees\n",
    "    deg_s = pd.Series(deg_d).sort_index(ascending=True)\n",
    "    X = [k for k in deg_s.index]\n",
    "    Y = [i*1.0 / N for i in deg_s.values]\n",
    "    return X, Y\n",
    "\n",
    "# import seaborn as sns\n",
    "# import numpy as np\n",
    "# X, Y = getDataPointsToPlot(loadNet())\n",
    "# print(len(X))\n",
    "# # Use JointGrid directly to draw a custom plot\n",
    "# grid = sns.JointGrid(np.log10(X), np.log10(Y), space=0, height=6, ratio=50)\n",
    "# grid.plot_joint(plt.scatter, color=\"g\")\n",
    "# grid.plot_marginals(sns.rugplot, height=1, color=\"g\")\n",
    "# plt.show()\n",
    "\n",
    "X, Y = getDataPointsToPlot(loadNet())\n",
    "plt.loglog(X, Y, color = 'y')\n",
    "plt.xlabel('Node Degree (log)')\n",
    "plt.ylabel('Proportion of Nodes with a Given Degree (log)')\n",
    "plt.title('Degree Distribution of Bundle-Item Graph')\n",
    "plt.show()\n"
   ]
  }
 ],
 "metadata": {
  "kernelspec": {
   "display_name": "Python 2",
   "language": "python",
   "name": "python2"
  },
  "language_info": {
   "codemirror_mode": {
    "name": "ipython",
    "version": 2
   },
   "file_extension": ".py",
   "mimetype": "text/x-python",
   "name": "python",
   "nbconvert_exporter": "python",
   "pygments_lexer": "ipython2",
   "version": "2.7.17"
  }
 },
 "nbformat": 4,
 "nbformat_minor": 2
}
